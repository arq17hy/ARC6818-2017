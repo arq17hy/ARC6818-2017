{
 "cells": [
  {
   "cell_type": "code",
   "execution_count": null,
   "metadata": {},
   "outputs": [],
   "source": [
    "import os\n",
    "import time\n",
    "\n",
    "seconds= float(0)\n",
    "minutes= int(0)\n",
    "hours = int (0)\n",
    "\n",
    "run = input (\"Enter R to run the program.\")\n",
    "\n",
    "while run.lower()==\"r\":\n",
    "    if seconds > 59:\n",
    "        seconds = 0\n",
    "        minutes = minutes+1\n",
    "    if mintues > 59:\n",
    "        minutes = 0\n",
    "        hours = hours+1\n",
    "    os.system('cls')\n",
    "    seconds = (seconds + .1)\n",
    "    print (hours,\":\",minutes,\":\",seconds)\n",
    "    time.sleep(.1)"
   ]
  },
  {
   "cell_type": "code",
   "execution_count": null,
   "metadata": {
    "collapsed": true
   },
   "outputs": [],
   "source": []
  }
 ],
 "metadata": {
  "kernelspec": {
   "display_name": "Python 3",
   "language": "python",
   "name": "python3"
  },
  "language_info": {
   "codemirror_mode": {
    "name": "ipython",
    "version": 3
   },
   "file_extension": ".py",
   "mimetype": "text/x-python",
   "name": "python",
   "nbconvert_exporter": "python",
   "pygments_lexer": "ipython3",
   "version": "3.6.2"
  }
 },
 "nbformat": 4,
 "nbformat_minor": 2
}
