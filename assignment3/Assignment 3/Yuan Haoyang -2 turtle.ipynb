{
 "cells": [
  {
   "cell_type": "code",
   "execution_count": null,
   "metadata": {
    "collapsed": true
   },
   "outputs": [],
   "source": [
    "import turtle\n",
    "import random\n",
    "\n",
    "\n",
    "turtle.speed(0)\n",
    "turtle.shape(\"circle\")\n",
    "num = 0\n",
    "while num == 0:\n",
    "  turtle.right(60)\n",
    "  turtle.begin_fill()\n",
    "  for count in range(int(6)):\n",
    "    turtle.color('#ff0000')\n",
    "    turtle.forward(80)\n",
    "    turtle.left(60)\n",
    "    turtle.color('#000000')\n",
    "    turtle.stamp()\n",
    "    turtle.color('#ff0000')\n",
    "    turtle.forward(80)\n",
    "    turtle.right(120)\n",
    "    turtle.color('#000000')\n",
    "    turtle.stamp()\n",
    "  turtle.color('#%06x' % random.randint(0, 2**24 - 1))\n",
    "  turtle.end_fill()"
   ]
  },
  {
   "cell_type": "code",
   "execution_count": null,
   "metadata": {
    "collapsed": true
   },
   "outputs": [],
   "source": []
  }
 ],
 "metadata": {
  "kernelspec": {
   "display_name": "Python 3",
   "language": "python",
   "name": "python3"
  },
  "language_info": {
   "codemirror_mode": {
    "name": "ipython",
    "version": 3
   },
   "file_extension": ".py",
   "mimetype": "text/x-python",
   "name": "python",
   "nbconvert_exporter": "python",
   "pygments_lexer": "ipython3",
   "version": "3.6.2"
  }
 },
 "nbformat": 4,
 "nbformat_minor": 2
}
